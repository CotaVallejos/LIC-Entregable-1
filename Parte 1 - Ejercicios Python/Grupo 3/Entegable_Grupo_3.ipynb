{
  "nbformat": 4,
  "nbformat_minor": 0,
  "metadata": {
    "colab": {
      "provenance": []
    },
    "kernelspec": {
      "name": "python3",
      "display_name": "Python 3"
    },
    "language_info": {
      "name": "python"
    }
  },
  "cells": [
    {
      "cell_type": "markdown",
      "source": [
        "#11. Frecuencia de Palabras: Dado un párrafo de texto, cuenta la frecuencia de aparición de cada palabra y almacena el resultado en un diccionario."
      ],
      "metadata": {
        "id": "okrbrgnoR7Pu"
      }
    },
    {
      "cell_type": "code",
      "source": [
        "parrafo = \"La inteligencia artificial está transformando la manera en que trabajamos. Cada día aparecen nuevas aplicaciones que facilitan tareas, mejoran la productividad y generan oportunidades de innovación.\"\n",
        "palabras = parrafo.split() #separamos el parrafo por palabras"
      ],
      "metadata": {
        "id": "3lhAwmheSA-9"
      },
      "execution_count": 8,
      "outputs": []
    },
    {
      "cell_type": "code",
      "source": [
        "#con un ciclo for contamos cada palabra del parrafo y además, ponemos cada palabra en un diccionario\n",
        "\n",
        "frecuencias = {}\n",
        "for palabra in palabras:\n",
        "    if palabra in frecuencias:\n",
        "        frecuencias[palabra] += 1\n",
        "    else:\n",
        "        frecuencias[palabra] = 1\n",
        "\n",
        "print(frecuencias)"
      ],
      "metadata": {
        "colab": {
          "base_uri": "https://localhost:8080/"
        },
        "id": "WVmupZDUTTHT",
        "outputId": "ed745ccf-d90f-4e7a-813b-8a3ae59a167e"
      },
      "execution_count": 9,
      "outputs": [
        {
          "output_type": "stream",
          "name": "stdout",
          "text": [
            "{'La': 1, 'inteligencia': 1, 'artificial': 1, 'está': 1, 'transformando': 1, 'la': 2, 'manera': 1, 'en': 1, 'que': 2, 'trabajamos.': 1, 'Cada': 1, 'día': 1, 'aparecen': 1, 'nuevas': 1, 'aplicaciones': 1, 'facilitan': 1, 'tareas,': 1, 'mejoran': 1, 'productividad': 1, 'y': 1, 'generan': 1, 'oportunidades': 1, 'de': 1, 'innovación.': 1}\n"
          ]
        }
      ]
    },
    {
      "cell_type": "markdown",
      "source": [
        "#12 Agenda de Contactos: Crea un programa que funcione como una agenda. Debe permitir al usuario añadir un contacto (nombre, teléfono), buscar un contacto por su nombre y eliminar un contacto. Usa un diccionario para almacenar la agenda."
      ],
      "metadata": {
        "id": "SEzUGA5NUdYU"
      }
    },
    {
      "cell_type": "code",
      "source": [
        "agenda = {}"
      ],
      "metadata": {
        "id": "D6bV3k6_fA7q"
      },
      "execution_count": 10,
      "outputs": []
    },
    {
      "cell_type": "code",
      "source": [
        "#definimos una función para que el usuario que ingrese el contacto (nombre y numeor de télefono)\n",
        "\n",
        "def agregar_contacto():\n",
        "    nombre = input(\"Ingresar nombre de contacto: \")\n",
        "    telefono = input(\"Ingresa el número de télefono: \")\n",
        "    agenda[nombre] = telefono\n",
        "    print(\"Contacto ingresado:\", nombre)\n",
        "    print(\"Télefono Ingresado:\", telefono)\n",
        "\n"
      ],
      "metadata": {
        "id": "QFMTt2OAUqqC"
      },
      "execution_count": 11,
      "outputs": []
    },
    {
      "cell_type": "code",
      "source": [
        "agregar_contacto()  #llamamos la funcion para ingresar el contacto\n"
      ],
      "metadata": {
        "colab": {
          "base_uri": "https://localhost:8080/"
        },
        "id": "orog-_GQWY3b",
        "outputId": "802ed9b4-516c-4d62-f5b0-a82b8d025dbf"
      },
      "execution_count": 12,
      "outputs": [
        {
          "output_type": "stream",
          "name": "stdout",
          "text": [
            "Ingresar nombre de contacto: martina\n",
            "Ingresa el número de télefono: 789299\n",
            "Contacto ingresado: martina\n",
            "Télefono Ingresado: 789299\n"
          ]
        }
      ]
    },
    {
      "cell_type": "code",
      "source": [
        "print(agenda)"
      ],
      "metadata": {
        "colab": {
          "base_uri": "https://localhost:8080/"
        },
        "id": "2I_Xdi7jW26z",
        "outputId": "e5bd63fb-d369-4dcd-f468-5409124704bd"
      },
      "execution_count": 13,
      "outputs": [
        {
          "output_type": "stream",
          "name": "stdout",
          "text": [
            "{'martina': '789299'}\n"
          ]
        }
      ]
    },
    {
      "cell_type": "code",
      "source": [
        "#para buscar un contacto\n",
        "def buscar_contacto():\n",
        "  nombre_buscado = input(\"Ingrese contacto a buscar: \")\n",
        "\n",
        "  if nombre_buscado in agenda:\n",
        "    print(f\"{nombre_buscado} : {agenda[nombre_buscado]}\")\n",
        "  else:\n",
        "    print(\"Contacto no existe\")"
      ],
      "metadata": {
        "id": "CC1DI9UYfPOd"
      },
      "execution_count": 14,
      "outputs": []
    },
    {
      "cell_type": "code",
      "source": [
        "buscar_contacto()"
      ],
      "metadata": {
        "colab": {
          "base_uri": "https://localhost:8080/"
        },
        "id": "WUB4xTzdf5zw",
        "outputId": "043f5277-e07b-45f0-e9d3-fac12d5f1134"
      },
      "execution_count": 15,
      "outputs": [
        {
          "output_type": "stream",
          "name": "stdout",
          "text": [
            "Ingrese contacto a buscar: mario\n",
            "Contacto no existe\n"
          ]
        }
      ]
    },
    {
      "cell_type": "code",
      "source": [
        "#eliminar contacto\n",
        "def eliminar_contacto():\n",
        "  nombre_eliminar = input(\"Ingrese nombre de contacto: \")\n",
        "\n",
        "  if nombre_eliminar in agenda:\n",
        "    del agenda[nombre_eliminar]\n",
        "  else:\n",
        "    print(f\"{nombre_eliminar} Contacto no encontrado\")\n"
      ],
      "metadata": {
        "id": "XXg6V8oOijy9"
      },
      "execution_count": 16,
      "outputs": []
    },
    {
      "cell_type": "code",
      "source": [
        "#llamar funcion\n",
        "\n",
        "eliminar_contacto()"
      ],
      "metadata": {
        "colab": {
          "base_uri": "https://localhost:8080/"
        },
        "id": "bEgQMRttktmG",
        "outputId": "1057d395-409f-44a8-96ab-6d046ea63cb6"
      },
      "execution_count": 17,
      "outputs": [
        {
          "name": "stdout",
          "output_type": "stream",
          "text": [
            "Ingrese nombre de contacto: martina\n"
          ]
        }
      ]
    },
    {
      "cell_type": "code",
      "source": [
        "print(agenda)   #verificar la eliminación del contacto"
      ],
      "metadata": {
        "colab": {
          "base_uri": "https://localhost:8080/"
        },
        "id": "HE8IBhzpkzRT",
        "outputId": "22b80703-7525-4e5f-f333-bbc1be31ee89"
      },
      "execution_count": 18,
      "outputs": [
        {
          "output_type": "stream",
          "name": "stdout",
          "text": [
            "{}\n"
          ]
        }
      ]
    },
    {
      "cell_type": "markdown",
      "source": [
        "#Gestor de Calificaciones: Permite al usuario ingresar nombres de estudiantes y sus calificaciones. Almacenarlos en un diccionario y luego calcula y muestra el promedio de calificaciones de toda la clase.\n"
      ],
      "metadata": {
        "id": "3CUHBpiqlTZz"
      }
    },
    {
      "cell_type": "code",
      "source": [
        "calificaciones = {}"
      ],
      "metadata": {
        "id": "KRmSNpiYlkcm"
      },
      "execution_count": 19,
      "outputs": []
    },
    {
      "cell_type": "code",
      "source": [
        "#le pedimos al user que ingrese notas y nombres de los alumnos\n",
        "\n",
        "nombre_alumno = input(\"ingrese nombre alumno: \")\n",
        "nota_alumno = int(input(\"Ingrese nota: \"))\n",
        "\n",
        "calificaciones[nombre_alumno]= nota_alumno\n",
        "\n",
        "\n"
      ],
      "metadata": {
        "colab": {
          "base_uri": "https://localhost:8080/"
        },
        "id": "nqAvO_Cologf",
        "outputId": "7abaacfa-f3e9-495f-e90a-5b82ec8862f6"
      },
      "execution_count": 20,
      "outputs": [
        {
          "name": "stdout",
          "output_type": "stream",
          "text": [
            "ingrese nombre alumno: anto\n",
            "Ingrese nota: 40\n"
          ]
        }
      ]
    },
    {
      "cell_type": "code",
      "source": [
        "print(calificaciones)"
      ],
      "metadata": {
        "colab": {
          "base_uri": "https://localhost:8080/"
        },
        "id": "R6MbYlTjtZfJ",
        "outputId": "d0bb8829-a751-48a2-d9f6-ed41f4cec71c"
      },
      "execution_count": 21,
      "outputs": [
        {
          "output_type": "stream",
          "name": "stdout",
          "text": [
            "{'anto': 40}\n"
          ]
        }
      ]
    },
    {
      "cell_type": "code",
      "source": [
        "#calcular el promedio de la clase\n",
        "\n",
        "suma_notas = sum(calificaciones.values())\n",
        "cantidad = len(calificaciones)\n",
        "promedio = suma_notas / cantidad\n",
        "\n",
        "print(\"Calificaciones:\", calificaciones)\n",
        "print(\"Promedio de la clase:\", promedio)"
      ],
      "metadata": {
        "colab": {
          "base_uri": "https://localhost:8080/"
        },
        "id": "_ndUnbHXuIHp",
        "outputId": "e318010d-0976-4aeb-ffc3-7188d5d5ea23"
      },
      "execution_count": 22,
      "outputs": [
        {
          "output_type": "stream",
          "name": "stdout",
          "text": [
            "Calificaciones: {'anto': 40}\n",
            "Promedio de la clase: 40.0\n"
          ]
        }
      ]
    },
    {
      "cell_type": "markdown",
      "source": [
        "#14 Traductor Simple: Crea un diccionario que funcione como un traductor de español a inglés. Debe contener al menos 10 palabras y permitir al usuario ingresar una palabra en español para obtener su traducción.\n"
      ],
      "metadata": {
        "id": "lReRoI3tBVRd"
      }
    },
    {
      "cell_type": "code",
      "source": [
        "traductor = {\n",
        "    \"hola\": \"hello\",\n",
        "    \"adiós\": \"goodbye\",\n",
        "    \"gracias\": \"thank you\",\n",
        "    \"por favor\": \"please\",\n",
        "    \"perro\": \"dog\",\n",
        "    \"gato\": \"cat\",\n",
        "    \"casa\": \"house\",\n",
        "    \"libro\": \"book\",\n",
        "    \"comida\": \"food\",\n",
        "    \"agua\": \"water\"\n",
        "}\n",
        "\n",
        "palabra = input(\"Ingresa una palabra en español: \").lower()\n",
        "\n",
        "traduccion = traductor.get(palabra)\n",
        "\n",
        "if traduccion:\n",
        "    print(f\"La traducción de '{palabra}' es '{traduccion}'\")\n",
        "else:\n",
        "    print(f\"No se puede traducir {palabra}\")\n"
      ],
      "metadata": {
        "colab": {
          "base_uri": "https://localhost:8080/"
        },
        "id": "tCq2rES7BXiP",
        "outputId": "02f4e8ef-f329-4ca8-9937-aa02f3edca70"
      },
      "execution_count": 23,
      "outputs": [
        {
          "output_type": "stream",
          "name": "stdout",
          "text": [
            "Ingresa una palabra en español: libro\n",
            "La traducción de 'libro' es 'book'\n"
          ]
        }
      ]
    },
    {
      "cell_type": "markdown",
      "source": [
        "#15. Inventario de Tienda: Define un diccionario para un inventario de productos. La clave será el nombre del producto y el valor será otro diccionario con su \"precio\" y \"stock\" (cantidad disponible)."
      ],
      "metadata": {
        "id": "L115tK96Bqg2"
      }
    },
    {
      "cell_type": "code",
      "source": [
        "# Inventario\n",
        "\n",
        "inventario = {\n",
        "    \"manzana\": {\"precio\": 500, \"stock\": 30},\n",
        "    \"pan\": {\"precio\": 1500, \"stock\": 20},\n",
        "    \"leche\": {\"precio\": 1200, \"stock\": 15},\n",
        "    \"arroz\": {\"precio\": 2000, \"stock\": 10},\n",
        "    \"huevos\": {\"precio\": 300, \"stock\": 50}\n",
        "}\n",
        "\n",
        "\n",
        "# Mostrar inventario\n",
        "for producto, info in inventario.items():\n",
        "    print(f\"{producto}: Precio = ${info['precio']}, Stock = {info['stock']}\")\n"
      ],
      "metadata": {
        "colab": {
          "base_uri": "https://localhost:8080/"
        },
        "id": "y-ogVTwJB1Mo",
        "outputId": "37c9561d-4e80-4b2f-97df-ca1623d9f318"
      },
      "execution_count": 24,
      "outputs": [
        {
          "output_type": "stream",
          "name": "stdout",
          "text": [
            "manzana: Precio = $500, Stock = 30\n",
            "pan: Precio = $1500, Stock = 20\n",
            "leche: Precio = $1200, Stock = 15\n",
            "arroz: Precio = $2000, Stock = 10\n",
            "huevos: Precio = $300, Stock = 50\n"
          ]
        }
      ]
    },
    {
      "cell_type": "code",
      "source": [
        "producto = input(\"Ingresa el nombre del producto: \").lower()\n",
        "\n",
        "if producto in inventario:\n",
        "    print(f\"Producto: {producto}\")\n",
        "    print(f\"Precio: ${inventario[producto]['precio']}\")\n",
        "    print(f\"Stock: {inventario[producto]['stock']}\")\n",
        "else:\n",
        "    print(\"Ese producto no está en el inventario.\")\n",
        "\n"
      ],
      "metadata": {
        "colab": {
          "base_uri": "https://localhost:8080/"
        },
        "id": "DCUzQrX1g6M4",
        "outputId": "9ae9f001-4b83-4c38-9fb2-a26e09ad7089"
      },
      "execution_count": 25,
      "outputs": [
        {
          "output_type": "stream",
          "name": "stdout",
          "text": [
            "Ingresa el nombre del producto: pan\n",
            "Producto: pan\n",
            "Precio: $1500\n",
            "Stock: 20\n"
          ]
        }
      ]
    }
  ]
}